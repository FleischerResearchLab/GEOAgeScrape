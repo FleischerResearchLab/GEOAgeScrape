{
 "cells": [
  {
   "cell_type": "code",
   "execution_count": 35,
   "source": [
    "import re\n",
    "#consider fetal weeks vs weeks\n",
    "ex6 = \"fetal week: 6\"\n",
    "ex1 = \"5 years 6 months 7 days 8 weeks 2 hours\"\n",
    "ex2 = \"5.5 years 6.6 months 72.777 days 8.8 weeks 2.2 hours\"\n",
    "ex3 = \"5 hours\"\n",
    "ex4 = \"age (yr): 10\"\n",
    "ex5 = \"age: 10\"\n",
    "ex6 = \"age: 10-month\"\n",
    "ex7 = \"10 fetal weeks\"\n",
    "ex8 = \"10 weeks\"\n",
    "findDay = re.findall(r'(\\d+.\\d+) days|(\\d+.\\d+) day|(\\d+) days|(\\d+) day|days[,:() ]*(\\d+[.]?\\d+)|day[,:() ]*(\\d+[.]?\\d+)', ex1)\n",
    "findYear = re.findall(r'(\\d+.\\d+) years|(\\d+.\\d+) year|(\\d+.\\d+) yrs|(\\d+.\\d+) yr|(\\d+) years|(\\d+) years|(\\d+) yrs|(\\d+) yr|yr[,:() ]*(\\d+[.]?\\d+)|years[,:() ]*(\\d+[.]?\\d+)|yrs[,:() ]*(\\d+[.]?\\d+)|age: (\\d+)$|age:(\\d+.\\d+)$', ex5)\n",
    "findMonth = re.findall(r'(\\d+.\\d+) months|(\\d+.\\d+) month|(\\d+.\\d+) mths|(\\d+.\\d+) mth|(\\d+) months|(\\d+) month|(\\d+) mths|(\\d+) mth|(\\d+)[-]*month|(\\d+)[-]*months|(\\d+.\\d+)[-]*month|(\\d+.\\d+)[-]*months', ex6)\n",
    "findWeek = re.findall(r'(\\d+.\\d+) weeks|(\\d+.\\d+) week|(\\d+) weeks|(\\d+) week', ex7)\n",
    "findHour = re.findall(r'(\\d+.\\d+) hours|(\\d+.\\d+) hour|(\\d+.\\d+) hrs|(\\d+.\\d+)hr|(\\d+) hours|(\\d+) hour|(\\d+) hrs|(\\d+) hr', ex1)\n",
    "findFetalWeek = re.findall(r'(\\d+) fetal weeks', ex7)\n",
    "findY = re.findall(r'yr[,:() ]*(\\d+[.]?\\d+)', ex4)\n"
   ],
   "outputs": [],
   "metadata": {}
  },
  {
   "cell_type": "code",
   "execution_count": 36,
   "source": [
    "findWeek"
   ],
   "outputs": [
    {
     "output_type": "execute_result",
     "data": {
      "text/plain": [
       "[]"
      ]
     },
     "metadata": {},
     "execution_count": 36
    }
   ],
   "metadata": {}
  },
  {
   "cell_type": "code",
   "execution_count": 37,
   "source": [
    "findFetalWeek"
   ],
   "outputs": [
    {
     "output_type": "execute_result",
     "data": {
      "text/plain": [
       "['10']"
      ]
     },
     "metadata": {},
     "execution_count": 37
    }
   ],
   "metadata": {}
  },
  {
   "cell_type": "code",
   "execution_count": 28,
   "source": [
    "findMonth"
   ],
   "outputs": [
    {
     "output_type": "execute_result",
     "data": {
      "text/plain": [
       "[('', '', '', '', '', '', '', '', '10', '', '', '')]"
      ]
     },
     "metadata": {},
     "execution_count": 28
    }
   ],
   "metadata": {}
  },
  {
   "cell_type": "code",
   "execution_count": 29,
   "source": [
    "findYear"
   ],
   "outputs": [
    {
     "output_type": "execute_result",
     "data": {
      "text/plain": [
       "[('', '', '', '', '', '', '', '', '', '', '', '10', '')]"
      ]
     },
     "metadata": {},
     "execution_count": 29
    }
   ],
   "metadata": {}
  },
  {
   "cell_type": "code",
   "execution_count": 28,
   "source": [
    "findD = re.findall(r'([\\d]+[.]?\\d+) days', ex1)"
   ],
   "outputs": [],
   "metadata": {}
  },
  {
   "cell_type": "code",
   "execution_count": 29,
   "source": [
    "findYear"
   ],
   "outputs": [
    {
     "output_type": "execute_result",
     "data": {
      "text/plain": [
       "[('', '', '', '', '', '', '', '', '', '', '', '10', '')]"
      ]
     },
     "metadata": {},
     "execution_count": 29
    }
   ],
   "metadata": {}
  },
  {
   "cell_type": "code",
   "execution_count": 31,
   "source": [
    "dayList = []\n",
    "day = 0\n",
    "if len(findDay) != 0:\n",
    "    findDay_input = findDay[0]\n",
    "    dayList = [x for x in findDay_input if x != '']\n",
    "    dayList = [float(i) for i in dayList]\n",
    "    day = dayList[0]\n",
    "\n",
    "dayToYear = day/365"
   ],
   "outputs": [],
   "metadata": {}
  },
  {
   "cell_type": "code",
   "execution_count": 33,
   "source": [
    "dayToYear"
   ],
   "outputs": [
    {
     "output_type": "execute_result",
     "data": {
      "text/plain": [
       "0.019178082191780823"
      ]
     },
     "metadata": {},
     "execution_count": 33
    }
   ],
   "metadata": {}
  },
  {
   "cell_type": "code",
   "execution_count": 5,
   "source": [
    "yearList = []\n",
    "year = 0\n",
    "if len(findYear) != 0:\n",
    "    findYear_input = findYear[0]\n",
    "    yearList = [x for x in findYear_input if x != '']\n",
    "    yearList = [float(i) for i in yearList]\n",
    "    year = yearList[0]"
   ],
   "outputs": [],
   "metadata": {}
  },
  {
   "cell_type": "code",
   "execution_count": 151,
   "source": [
    "monthList = []\n",
    "month = 0\n",
    "if len(findMonth) != 0:\n",
    "    findMonth_input = findMonth[0]\n",
    "    monthList = [x for x in findMonth_input if x != '']\n",
    "    monthList = [float(i) for i in monthList]\n",
    "    month = monthList[0]\n",
    "\n",
    "monthToYear = month/12"
   ],
   "outputs": [],
   "metadata": {}
  },
  {
   "cell_type": "code",
   "execution_count": 153,
   "source": [
    "weekList = []\n",
    "week = 0\n",
    "if len(findWeek) != 0:\n",
    "    findWeek_input = findWeek[0]\n",
    "    weekList = [x for x in findWeek_input if x != '']\n",
    "    weekList = [float(i) for i in weekList]\n",
    "    week = weekList[0]\n",
    "\n",
    "weekToYear = week/52.143\n"
   ],
   "outputs": [],
   "metadata": {}
  },
  {
   "cell_type": "code",
   "execution_count": 149,
   "source": [
    "hourList = []\n",
    "hour = 0\n",
    "if len(findHour) != 0:\n",
    "    findHour_input = findHour[0]\n",
    "    hourList = [x for x in findHour_input if x != '']\n",
    "    hourList = [float(i) for i in hourList]\n",
    "    hour = hourList[0]\n",
    "\n",
    "hourToYear = hour/8760"
   ],
   "outputs": [],
   "metadata": {}
  },
  {
   "cell_type": "code",
   "execution_count": 122,
   "source": [
    "list_with_empty_strings = findHour[0]"
   ],
   "outputs": [
    {
     "output_type": "error",
     "ename": "IndexError",
     "evalue": "list index out of range",
     "traceback": [
      "\u001b[0;31m---------------------------------------------------------------------------\u001b[0m",
      "\u001b[0;31mIndexError\u001b[0m                                Traceback (most recent call last)",
      "Input \u001b[0;32mIn [122]\u001b[0m, in \u001b[0;36m<cell line: 1>\u001b[0;34m()\u001b[0m\n\u001b[0;32m----> 1\u001b[0m list_with_empty_strings \u001b[38;5;241m=\u001b[39m \u001b[43mfindHour\u001b[49m\u001b[43m[\u001b[49m\u001b[38;5;241;43m0\u001b[39;49m\u001b[43m]\u001b[49m\n",
      "\u001b[0;31mIndexError\u001b[0m: list index out of range"
     ]
    }
   ],
   "metadata": {}
  },
  {
   "cell_type": "code",
   "execution_count": 118,
   "source": [
    "new_list = [x for x in list_with_empty_strings if x != '']\n",
    "newList = [float(i) for i in new_list]\n",
    "print(newList)"
   ],
   "outputs": [
    {
     "output_type": "stream",
     "name": "stdout",
     "text": [
      "[2.2]\n"
     ]
    }
   ],
   "metadata": {}
  },
  {
   "cell_type": "code",
   "execution_count": null,
   "source": [],
   "outputs": [],
   "metadata": {}
  },
  {
   "cell_type": "code",
   "execution_count": null,
   "source": [],
   "outputs": [],
   "metadata": {}
  }
 ],
 "metadata": {
  "kernelspec": {
   "name": "python3",
   "display_name": "Python 3.8.9 64-bit"
  },
  "language_info": {
   "codemirror_mode": {
    "name": "ipython",
    "version": 3
   },
   "file_extension": ".py",
   "mimetype": "text/x-python",
   "name": "python",
   "nbconvert_exporter": "python",
   "pygments_lexer": "ipython3",
   "version": "3.8.9"
  },
  "interpreter": {
   "hash": "31f2aee4e71d21fbe5cf8b01ff0e069b9275f58929596ceb00d14d90e3e16cd6"
  }
 },
 "nbformat": 4,
 "nbformat_minor": 4
}